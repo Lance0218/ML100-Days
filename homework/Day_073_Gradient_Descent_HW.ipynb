{
 "cells": [
  {
   "cell_type": "markdown",
   "metadata": {},
   "source": [
    "# Find the local minima of the function y=(x+5)² starting from the point x=3"
   ]
  },
  {
   "cell_type": "markdown",
   "metadata": {},
   "source": [
    "\n",
    "Step 1 : Initialize x =3. Then, find the gradient of the function, dy/dx = 2*(x+5).\n",
    "\n",
    "Step 2 : Move in the direction of the negative of the gradient. We use a learning rate. Let us assume the learning rate → 0.01\n",
    "\n",
    "Step 3 : Let’s perform 2 iterations of gradient descent\n",
    "\n",
    "Step 4 : We can observe that the X value is slowly decreasing and should converge to -5 (the local minima). However, how many iterations should we perform?"
   ]
  },
  {
   "cell_type": "markdown",
   "metadata": {},
   "source": [
    "# 作業:\n",
    "    請嘗試使用不同的組合驗證 learning rate 對所需 iteration 的影響\n",
    "    lr = [0.1, 0.0001]\n",
    "    主要驗證 Lr 對於grandient 收斂的速度\n",
    "    "
   ]
  },
  {
   "cell_type": "code",
   "execution_count": 1,
   "metadata": {
    "scrolled": false
   },
   "outputs": [],
   "source": [
    "def time_of_learning_rate(lr):\n",
    "    import time\n",
    "    import matplotlib.pyplot as plt\n",
    "    %matplotlib inline \n",
    "    cur_x = 3 # The algorithm starts at x=3\n",
    "    precision = 0.000001 # This tells us when to stop the algorithm\n",
    "    max_iters = 10000 # maximum number of iterations\n",
    "    df = lambda x: 2*(x+5) # Gradient of our function \n",
    "    lr = lr\n",
    "    previous_step_size = 1\n",
    "    iters = 0\n",
    "\n",
    "    iters_history = [iters]\n",
    "    x_history = [cur_x]\n",
    "    '''\n",
    "    MUST RESET\n",
    "    # Learning rate\n",
    "    # iteration counter\n",
    "    # Step size  \n",
    "    '''\n",
    "    tstart = time.time()\n",
    "    while previous_step_size > precision and iters < max_iters:\n",
    "        '''\n",
    "        算法迭代更新\n",
    "        '''\n",
    "        prev_x = cur_x #Store current x value in prev_x\n",
    "        cur_x = cur_x - lr * df(prev_x) #Gradient descent\n",
    "        previous_step_size = abs(cur_x - prev_x) # 取較大的值, Change in x\n",
    "        iters = iters + 1 #iteration count\n",
    "\n",
    "        # Store parameters for plotting\n",
    "        iters_history.append(iters)\n",
    "        x_history.append(cur_x)\n",
    "    tend = time.time()\n",
    "    costed_time = tend - tstart\n",
    "    print(f'the learning rate = {lr}\\nIteration = {iters}\\nX value = {cur_x}\\nCosted time = {costed_time}')\n",
    "    plt.plot(iters_history, x_history, 'b-', ms=3, lw=1.5)\n",
    "    plt.xlabel(r'$iters$', fontsize=16)\n",
    "    plt.ylabel(r'$x$', fontsize=16)"
   ]
  },
  {
   "cell_type": "code",
   "execution_count": 2,
   "metadata": {},
   "outputs": [
    {
     "name": "stdout",
     "output_type": "stream",
     "text": [
      "the learning rate = 0.1\n",
      "Iteration = 66\n",
      "X value = -4.999996786123911\n",
      "Costed time = 0.0\n"
     ]
    },
    {
     "data": {
      "image/png": "[encoded data removed]",
      "text/plain": [
       "<Figure size 432x288 with 1 Axes>"
      ]
     },
     "metadata": {
      "needs_background": "light"
     },
     "output_type": "display_data"
    }
   ],
   "source": [
    "time_of_learning_rate(0.1)"
   ]
  },
  {
   "cell_type": "code",
   "execution_count": 3,
   "metadata": {},
   "outputs": [
    {
     "name": "stdout",
     "output_type": "stream",
     "text": [
      "the learning rate = 0.0001\n",
      "Iteration = 10000\n",
      "X value = -3.917534277778167\n",
      "Costed time = 0.0049855709075927734\n"
     ]
    },
    {
     "data": {
      "image/png": "[encoded data removed]",
      "text/plain": [
       "<Figure size 432x288 with 1 Axes>"
      ]
     },
     "metadata": {
      "needs_background": "light"
     },
     "output_type": "display_data"
    }
   ],
   "source": [
    "time_of_learning_rate(0.0001)"
   ]
  }
 ],
 "metadata": {
  "kernelspec": {
   "display_name": "Python 3",
   "language": "python",
   "name": "python3"
  },
  "language_info": {
   "codemirror_mode": {
    "name": "ipython",
    "version": 3
   },
   "file_extension": ".py",
   "mimetype": "text/x-python",
   "name": "python",
   "nbconvert_exporter": "python",
   "pygments_lexer": "ipython3",
   "version": "3.6.8"
  }
 },
 "nbformat": 4,
 "nbformat_minor": 2
}
