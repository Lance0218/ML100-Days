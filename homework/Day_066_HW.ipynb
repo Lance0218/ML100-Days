{
 "cells": [
  {
   "cell_type": "code",
   "execution_count": 1,
   "metadata": {},
   "outputs": [
    {
     "name": "stderr",
     "output_type": "stream",
     "text": [
      "Using TensorFlow backend.\n"
     ]
    },
    {
     "name": "stdout",
     "output_type": "stream",
     "text": [
      "WARNING:tensorflow:From D:\\Software\\Anaconda\\lib\\site-packages\\tensorflow\\python\\framework\\op_def_library.py:263: colocate_with (from tensorflow.python.framework.ops) is deprecated and will be removed in a future version.\n",
      "Instructions for updating:\n",
      "Colocations handled automatically by placer.\n",
      "{'name': 'model_1', 'layers': [{'name': 'input_1', 'class_name': 'InputLayer', 'config': {'batch_input_shape': (None, 32), 'dtype': 'float32', 'sparse': False, 'name': 'input_1'}, 'inbound_nodes': []}, {'name': 'dense_1', 'class_name': 'Dense', 'config': {'name': 'dense_1', 'trainable': True, 'units': 32, 'activation': 'linear', 'use_bias': True, 'kernel_initializer': {'class_name': 'VarianceScaling', 'config': {'scale': 1.0, 'mode': 'fan_avg', 'distribution': 'uniform', 'seed': None}}, 'bias_initializer': {'class_name': 'Zeros', 'config': {}}, 'kernel_regularizer': None, 'bias_regularizer': None, 'activity_regularizer': None, 'kernel_constraint': None, 'bias_constraint': None}, 'inbound_nodes': [[['input_1', 0, 0, {}]]]}], 'input_layers': [['input_1', 0, 0]], 'output_layers': [['dense_1', 0, 0]]}\n"
     ]
    }
   ],
   "source": [
    "from keras.utils import multi_gpu_model\n",
    "from keras.models import Model\n",
    "from keras.layers import Input, Dense\n",
    "\n",
    "\n",
    "a = Input(shape=(32,))\n",
    "b = Dense(32)(a)\n",
    "model = Model(inputs=a, outputs=b)\n",
    "\n",
    "config = model.get_config()\n",
    "print(config)"
   ]
  },
  {
   "cell_type": "code",
   "execution_count": 2,
   "metadata": {},
   "outputs": [
    {
     "name": "stdout",
     "output_type": "stream",
     "text": [
      "_________________________________________________________________\n",
      "Layer (type)                 Output Shape              Param #   \n",
      "=================================================================\n",
      "input_1 (InputLayer)         (None, 32)                0         \n",
      "_________________________________________________________________\n",
      "dense_1 (Dense)              (None, 32)                1056      \n",
      "=================================================================\n",
      "Total params: 1,056\n",
      "Trainable params: 1,056\n",
      "Non-trainable params: 0\n",
      "_________________________________________________________________\n"
     ]
    }
   ],
   "source": [
    "model.summary()"
   ]
  },
  {
   "cell_type": "markdown",
   "metadata": {},
   "source": [
    "# 作業:\n",
    "    檢查 backend\n",
    "    檢查 fuzz factor\n",
    "    設定 Keras 浮點運算為float16"
   ]
  },
  {
   "cell_type": "code",
   "execution_count": 3,
   "metadata": {},
   "outputs": [
    {
     "name": "stdout",
     "output_type": "stream",
     "text": [
      "The Version of Keras is 2.2.4\n",
      "Now Backend is : tensorflow\n"
     ]
    }
   ],
   "source": [
    "import keras\n",
    "from keras import backend as K\n",
    "\n",
    "# 檢查 backend\n",
    "print(f'The Version of Keras is {keras.__version__}')\n",
    "print(f'Now Backend is : {K.backend()}')"
   ]
  },
  {
   "cell_type": "code",
   "execution_count": 4,
   "metadata": {},
   "outputs": [
    {
     "name": "stdout",
     "output_type": "stream",
     "text": [
      "Now fuzz factor is 1e-07\n"
     ]
    }
   ],
   "source": [
    "# 檢查 fuzz factor\n",
    "print(f'Now fuzz factor is {K.epsilon()}')"
   ]
  },
  {
   "cell_type": "code",
   "execution_count": 5,
   "metadata": {},
   "outputs": [
    {
     "name": "stdout",
     "output_type": "stream",
     "text": [
      "float type (before) : float32\n"
     ]
    }
   ],
   "source": [
    "# 查看 Keras 浮點\n",
    "print(f'float type (before) : {K.floatx()}')"
   ]
  },
  {
   "cell_type": "code",
   "execution_count": 6,
   "metadata": {},
   "outputs": [
    {
     "name": "stdout",
     "output_type": "stream",
     "text": [
      "float type (after) : float16\n"
     ]
    }
   ],
   "source": [
    "#設定 Keras 浮點運算為float16\n",
    "K.set_floatx('float16')\n",
    "print(f'float type (after) : {K.floatx()}')"
   ]
  },
  {
   "cell_type": "code",
   "execution_count": 7,
   "metadata": {},
   "outputs": [
    {
     "name": "stdout",
     "output_type": "stream",
     "text": [
      "[name: \"/device:CPU:0\"\n",
      "device_type: \"CPU\"\n",
      "memory_limit: 268435456\n",
      "locality {\n",
      "}\n",
      "incarnation: 8244189957770295083\n",
      ", name: \"/device:GPU:0\"\n",
      "device_type: \"GPU\"\n",
      "memory_limit: 1458231705\n",
      "locality {\n",
      "  bus_id: 1\n",
      "  links {\n",
      "  }\n",
      "}\n",
      "incarnation: 12226051241927530252\n",
      "physical_device_desc: \"device: 0, name: GeForce 940MX, pci bus id: 0000:01:00.0, compute capability: 5.0\"\n",
      "]\n"
     ]
    }
   ],
   "source": [
    "# 檢查 tensorflow\n",
    "from tensorflow.python.client import device_lib\n",
    "print(device_lib.list_local_devices())"
   ]
  },
  {
   "cell_type": "code",
   "execution_count": 8,
   "metadata": {},
   "outputs": [
    {
     "name": "stdout",
     "output_type": "stream",
     "text": [
      "/gpu:0 矩阵大小： 0 x 0  时间: 1.1578483581542969\n",
      "/cpu:0 矩阵大小： 0 x 0  时间: 0.27523183822631836\n",
      "/gpu:0 矩阵大小： 500 x 500  时间: 0.3402059078216553\n",
      "/cpu:0 矩阵大小： 500 x 500  时间: 0.3997490406036377\n",
      "/gpu:0 矩阵大小： 1000 x 1000  时间: 0.4369356632232666\n",
      "/cpu:0 矩阵大小： 1000 x 1000  时间: 0.6241054534912109\n",
      "/gpu:0 矩阵大小： 1500 x 1500  时间: 0.5977632999420166\n",
      "/cpu:0 矩阵大小： 1500 x 1500  时间: 0.9750216007232666\n",
      "/gpu:0 矩阵大小： 2000 x 2000  时间: 0.7545285224914551\n",
      "/cpu:0 矩阵大小： 2000 x 2000  时间: 1.301187515258789\n",
      "/gpu:0 矩阵大小： 2500 x 2500  时间: 0.9498968124389648\n",
      "/cpu:0 矩阵大小： 2500 x 2500  时间: 1.9200191497802734\n",
      "/gpu:0 矩阵大小： 3000 x 3000  时间: 1.0864777565002441\n",
      "/cpu:0 矩阵大小： 3000 x 3000  时间: 2.8415637016296387\n",
      "/gpu:0 矩阵大小： 3500 x 3500  时间: 1.1713635921478271\n",
      "/cpu:0 矩阵大小： 3500 x 3500  时间: 3.754835844039917\n",
      "/gpu:0 矩阵大小： 4000 x 4000  时间: 1.3758771419525146\n",
      "/cpu:0 矩阵大小： 4000 x 4000  时间: 5.081805944442749\n",
      "/gpu:0 矩阵大小： 4500 x 4500  时间: 1.52778959274292\n",
      "/cpu:0 矩阵大小： 4500 x 4500  时间: 6.51775050163269\n",
      "/gpu:0 矩阵大小： 5000 x 5000  时间: 1.740973711013794\n",
      "/cpu:0 矩阵大小： 5000 x 5000  时间: 8.512014150619507\n",
      "/gpu:0 矩阵大小： 5500 x 5500  时间: 2.04305362701416\n",
      "/cpu:0 矩阵大小： 5500 x 5500  时间: 10.802921533584595\n",
      "/gpu:0 矩阵大小： 6000 x 6000  时间: 2.2139036655426025\n",
      "/cpu:0 矩阵大小： 6000 x 6000  时间: 13.421043634414673\n"
     ]
    },
    {
     "data": {
      "text/plain": [
       "<matplotlib.legend.Legend at 0x1776f16c828>"
      ]
     },
     "execution_count": 8,
     "metadata": {},
     "output_type": "execute_result"
    },
    {
     "data": {
      "image/png": "[encoded data removed]",
      "text/plain": [
       "<Figure size 432x288 with 1 Axes>"
      ]
     },
     "metadata": {
      "needs_background": "light"
     },
     "output_type": "display_data"
    }
   ],
   "source": [
    "# 對比GPU和CPU的性能差距\n",
    "import tensorflow as tf\n",
    "import time\n",
    "\n",
    "def performanceTest(device_name,size):\n",
    "    with tf.device(device_name):\n",
    "        W = tf.random_normal([size, size], name='W')\n",
    "        X = tf.random_normal([size, size], name='X')\n",
    "        mul = tf.matmul(W, X, name='mul')\n",
    "        sum_result = tf.reduce_sum(mul, name='sum')\n",
    "    \n",
    "    startTime = time.time()\n",
    "    tfconfig = tf.ConfigProto(log_device_placement=True)\n",
    "    with tf.Session(config=tfconfig) as sess:\n",
    "        result = sess.run(sum_result)\n",
    "        \n",
    "    takeTimes = time.time() - startTime\n",
    "    print(device_name, \"矩阵大小：\",size,\"x\",size, \" 时间:\",takeTimes)\n",
    "    return takeTimes\n",
    "\n",
    "\n",
    "gpu_set = [];cpu_set = [];i_set = []\n",
    "for i in range(0, 6001, 500):\n",
    "    g = performanceTest(\"/gpu:0\",i)\n",
    "    c = performanceTest(\"/cpu:0\",i)\n",
    "    gpu_set.append(g)\n",
    "    cpu_set.append(c)\n",
    "    i_set.append(i)\n",
    "    \n",
    "%matplotlib inline\n",
    "import matplotlib.pyplot as plt\n",
    "fig = plt.gcf()\n",
    "plt.plot(i_set, gpu_set, label='gpu')\n",
    "plt.plot(i_set, cpu_set, label='cpu')\n",
    "plt.legend()"
   ]
  },
  {
   "cell_type": "code",
   "execution_count": null,
   "metadata": {},
   "outputs": [],
   "source": []
  }
 ],
 "metadata": {
  "kernelspec": {
   "display_name": "Python 3",
   "language": "python",
   "name": "python3"
  },
  "language_info": {
   "codemirror_mode": {
    "name": "ipython",
    "version": 3
   },
   "file_extension": ".py",
   "mimetype": "text/x-python",
   "name": "python",
   "nbconvert_exporter": "python",
   "pygments_lexer": "ipython3",
   "version": "3.6.8"
  }
 },
 "nbformat": 4,
 "nbformat_minor": 2
}
