{
 "cells": [
  {
   "cell_type": "markdown",
   "metadata": {},
   "source": [
    "## Work\n",
    "1. 請嘗試將 preproc_x 替換成以每筆資料的 min/max 進行標準化至 -1 ~ 1 間，再進行訓練\n",
    "2. 請嘗試將 mlp 疊更深 (e.g 5~10 層)，進行訓練後觀察 learning curve 的走勢\n",
    "3. (optional) 請改用 GPU 進行訓練 (如果你有 GPU 的話)，比較使用 CPU 與 GPU 的訓練速度"
   ]
  },
  {
   "cell_type": "code",
   "execution_count": 1,
   "metadata": {},
   "outputs": [
    {
     "data": {
      "text/plain": [
       "'\\nYour code here\\n'"
      ]
     },
     "execution_count": 1,
     "metadata": {},
     "output_type": "execute_result"
    }
   ],
   "source": [
    "## 確認硬體資源\n",
    "\"\"\"\n",
    "Your code here\n",
    "\"\"\"\n",
    "#!nvidia-smi"
   ]
  },
  {
   "cell_type": "code",
   "execution_count": 2,
   "metadata": {},
   "outputs": [
    {
     "name": "stderr",
     "output_type": "stream",
     "text": [
      "Using TensorFlow backend.\n"
     ]
    }
   ],
   "source": [
    "import os\n",
    "import keras\n",
    "\n",
    "# Try to enable GPU (optional)"
   ]
  },
  {
   "cell_type": "code",
   "execution_count": 3,
   "metadata": {},
   "outputs": [],
   "source": [
    "train, test = keras.datasets.cifar10.load_data()"
   ]
  },
  {
   "cell_type": "code",
   "execution_count": 4,
   "metadata": {},
   "outputs": [],
   "source": [
    "## 資料前處理\n",
    "\"\"\"\n",
    "Your code here\n",
    "\"\"\"\n",
    "def preproc_x(x, flatten=True):\n",
    "    x = x / 255.\n",
    "    if flatten:\n",
    "        x = x.reshape(len(x), -1)\n",
    "        x = (x - x.min(axis=0)) / (x.max(axis=0) - x.min(axis=0)) * 2 - 1\n",
    "    return x\n",
    "\n",
    "def preproc_y(y, num_classes=10):\n",
    "    if y.shape[-1] == 1:\n",
    "        y = keras.utils.to_categorical(y, num_classes)\n",
    "    return y"
   ]
  },
  {
   "cell_type": "code",
   "execution_count": 5,
   "metadata": {},
   "outputs": [],
   "source": [
    "x_train, y_train = train\n",
    "x_test, y_test = test\n",
    "\n",
    "# Preproc the inputs\n",
    "x_train = preproc_x(x_train)\n",
    "x_test = preproc_x(x_test)\n",
    "\n",
    "# Preprc the outputs\n",
    "y_train = preproc_y(y_train)\n",
    "y_test = preproc_y(y_test)"
   ]
  },
  {
   "cell_type": "code",
   "execution_count": 6,
   "metadata": {},
   "outputs": [
    {
     "name": "stdout",
     "output_type": "stream",
     "text": [
      "WARNING:tensorflow:From D:\\Software\\Anaconda\\lib\\site-packages\\tensorflow\\python\\framework\\op_def_library.py:263: colocate_with (from tensorflow.python.framework.ops) is deprecated and will be removed in a future version.\n",
      "Instructions for updating:\n",
      "Colocations handled automatically by placer.\n",
      "_________________________________________________________________\n",
      "Layer (type)                 Output Shape              Param #   \n",
      "=================================================================\n",
      "input_1 (InputLayer)         (None, 3072)              0         \n",
      "_________________________________________________________________\n",
      "hidden_layer1 (Dense)        (None, 512)               1573376   \n",
      "_________________________________________________________________\n",
      "hidden_layer2 (Dense)        (None, 256)               131328    \n",
      "_________________________________________________________________\n",
      "hidden_layer3 (Dense)        (None, 128)               32896     \n",
      "_________________________________________________________________\n",
      "hidden_layer4 (Dense)        (None, 64)                8256      \n",
      "_________________________________________________________________\n",
      "hidden_layer5 (Dense)        (None, 32)                2080      \n",
      "_________________________________________________________________\n",
      "output (Dense)               (None, 10)                330       \n",
      "=================================================================\n",
      "Total params: 1,748,266\n",
      "Trainable params: 1,748,266\n",
      "Non-trainable params: 0\n",
      "_________________________________________________________________\n"
     ]
    }
   ],
   "source": [
    "\"\"\"\n",
    "Your code here\n",
    "\"\"\"\n",
    "def build_mlp(input_shape, output_units=10, num_neurons=[512, 256, 128, 64, 32]):\n",
    "    input_layer = keras.layers.Input(input_shape)\n",
    "    \n",
    "    for i, n_units in enumerate(num_neurons):\n",
    "        if i == 0:\n",
    "            x = keras.layers.Dense(units=n_units, activation=\"relu\", name=\"hidden_layer\"+str(i+1))(input_layer)\n",
    "        else:\n",
    "            x = keras.layers.Dense(units=n_units, activation=\"relu\", name=\"hidden_layer\"+str(i+1))(x)\n",
    "    \n",
    "    out = keras.layers.Dense(units=output_units, activation=\"softmax\", name=\"output\")(x)\n",
    "    \n",
    "    model = keras.models.Model(inputs=[input_layer], outputs=[out])\n",
    "    return model\n",
    "model = build_mlp(input_shape=x_train.shape[1:])\n",
    "model.summary()"
   ]
  },
  {
   "cell_type": "code",
   "execution_count": 7,
   "metadata": {},
   "outputs": [
    {
     "name": "stdout",
     "output_type": "stream",
     "text": [
      "WARNING:tensorflow:From D:\\Software\\Anaconda\\lib\\site-packages\\tensorflow\\python\\ops\\math_ops.py:3066: to_int32 (from tensorflow.python.ops.math_ops) is deprecated and will be removed in a future version.\n",
      "Instructions for updating:\n",
      "Use tf.cast instead.\n",
      "Train on 50000 samples, validate on 10000 samples\n",
      "Epoch 1/100\n",
      "50000/50000 [==============================] - 25s 506us/step - loss: 1.7338 - acc: 0.3858 - val_loss: 1.5490 - val_acc: 0.4455\n",
      "Epoch 2/100\n",
      "50000/50000 [==============================] - 6s 130us/step - loss: 1.4866 - acc: 0.4735 - val_loss: 1.4771 - val_acc: 0.4808\n",
      "Epoch 3/100\n",
      "50000/50000 [==============================] - 6s 121us/step - loss: 1.3660 - acc: 0.5168 - val_loss: 1.4009 - val_acc: 0.5076\n",
      "Epoch 4/100\n",
      "50000/50000 [==============================] - 6s 119us/step - loss: 1.2743 - acc: 0.5511 - val_loss: 1.3761 - val_acc: 0.5173\n",
      "Epoch 5/100\n",
      "50000/50000 [==============================] - 6s 118us/step - loss: 1.1925 - acc: 0.5781 - val_loss: 1.3799 - val_acc: 0.5201\n",
      "Epoch 6/100\n",
      "50000/50000 [==============================] - 6s 120us/step - loss: 1.1145 - acc: 0.6046 - val_loss: 1.3624 - val_acc: 0.5260\n",
      "Epoch 7/100\n",
      "50000/50000 [==============================] - 6s 119us/step - loss: 1.0384 - acc: 0.6354 - val_loss: 1.3849 - val_acc: 0.5258\n",
      "Epoch 8/100\n",
      "50000/50000 [==============================] - 6s 122us/step - loss: 0.9691 - acc: 0.6574 - val_loss: 1.4015 - val_acc: 0.5285\n",
      "Epoch 9/100\n",
      "50000/50000 [==============================] - 6s 117us/step - loss: 0.8971 - acc: 0.6837 - val_loss: 1.3976 - val_acc: 0.5367\n",
      "Epoch 10/100\n",
      "50000/50000 [==============================] - 6s 119us/step - loss: 0.8325 - acc: 0.7059 - val_loss: 1.4509 - val_acc: 0.5316\n",
      "Epoch 11/100\n",
      "50000/50000 [==============================] - 6s 122us/step - loss: 0.7719 - acc: 0.7246 - val_loss: 1.5097 - val_acc: 0.5319\n",
      "Epoch 12/100\n",
      "50000/50000 [==============================] - 7s 140us/step - loss: 0.7080 - acc: 0.7499 - val_loss: 1.5809 - val_acc: 0.5311\n",
      "Epoch 13/100\n",
      "50000/50000 [==============================] - 7s 140us/step - loss: 0.6548 - acc: 0.7679 - val_loss: 1.5894 - val_acc: 0.5277\n",
      "Epoch 14/100\n",
      "50000/50000 [==============================] - 8s 151us/step - loss: 0.5988 - acc: 0.7873 - val_loss: 1.6387 - val_acc: 0.5341\n",
      "Epoch 15/100\n",
      "50000/50000 [==============================] - 8s 163us/step - loss: 0.5361 - acc: 0.8088 - val_loss: 1.7884 - val_acc: 0.5284\n",
      "Epoch 16/100\n",
      "50000/50000 [==============================] - 8s 156us/step - loss: 0.4952 - acc: 0.8263 - val_loss: 1.8408 - val_acc: 0.5315\n",
      "Epoch 17/100\n",
      "50000/50000 [==============================] - 8s 150us/step - loss: 0.4513 - acc: 0.8405 - val_loss: 2.0087 - val_acc: 0.5224\n",
      "Epoch 18/100\n",
      "50000/50000 [==============================] - 6s 125us/step - loss: 0.4247 - acc: 0.8480 - val_loss: 2.0059 - val_acc: 0.5362\n",
      "Epoch 19/100\n",
      "50000/50000 [==============================] - 6s 123us/step - loss: 0.3964 - acc: 0.8595 - val_loss: 2.0699 - val_acc: 0.5326\n",
      "Epoch 20/100\n",
      "50000/50000 [==============================] - 7s 136us/step - loss: 0.3558 - acc: 0.8740 - val_loss: 2.1917 - val_acc: 0.5338\n",
      "Epoch 21/100\n",
      "50000/50000 [==============================] - 6s 125us/step - loss: 0.3336 - acc: 0.8826 - val_loss: 2.2196 - val_acc: 0.5284\n",
      "Epoch 22/100\n",
      "50000/50000 [==============================] - 6s 124us/step - loss: 0.3044 - acc: 0.8938 - val_loss: 2.3679 - val_acc: 0.5171\n",
      "Epoch 23/100\n",
      "50000/50000 [==============================] - 6s 129us/step - loss: 0.2975 - acc: 0.8952 - val_loss: 2.4368 - val_acc: 0.5280\n",
      "Epoch 24/100\n",
      "50000/50000 [==============================] - 7s 130us/step - loss: 0.2753 - acc: 0.9036 - val_loss: 2.4866 - val_acc: 0.5337\n",
      "Epoch 25/100\n",
      "50000/50000 [==============================] - 6s 129us/step - loss: 0.2556 - acc: 0.9106 - val_loss: 2.5874 - val_acc: 0.5302\n",
      "Epoch 26/100\n",
      "50000/50000 [==============================] - 6s 128us/step - loss: 0.2450 - acc: 0.9149 - val_loss: 2.5879 - val_acc: 0.5282\n",
      "Epoch 27/100\n",
      "50000/50000 [==============================] - 7s 131us/step - loss: 0.2174 - acc: 0.9241 - val_loss: 2.7338 - val_acc: 0.5329\n",
      "Epoch 28/100\n",
      "50000/50000 [==============================] - 7s 135us/step - loss: 0.2286 - acc: 0.9214 - val_loss: 2.7598 - val_acc: 0.5244\n",
      "Epoch 29/100\n",
      "50000/50000 [==============================] - 8s 162us/step - loss: 0.2126 - acc: 0.9265 - val_loss: 2.8180 - val_acc: 0.5309\n",
      "Epoch 30/100\n",
      "50000/50000 [==============================] - 8s 159us/step - loss: 0.1952 - acc: 0.9325 - val_loss: 2.9494 - val_acc: 0.5345\n",
      "Epoch 31/100\n",
      "50000/50000 [==============================] - 7s 146us/step - loss: 0.1997 - acc: 0.9309 - val_loss: 2.9462 - val_acc: 0.5316\n",
      "Epoch 32/100\n",
      "50000/50000 [==============================] - 7s 135us/step - loss: 0.1783 - acc: 0.9379 - val_loss: 2.9949 - val_acc: 0.5288\n",
      "Epoch 33/100\n",
      "50000/50000 [==============================] - 7s 135us/step - loss: 0.1735 - acc: 0.9407 - val_loss: 3.0208 - val_acc: 0.5350\n",
      "Epoch 34/100\n",
      "50000/50000 [==============================] - 7s 139us/step - loss: 0.1812 - acc: 0.9366 - val_loss: 3.0609 - val_acc: 0.5197\n",
      "Epoch 35/100\n",
      "50000/50000 [==============================] - 7s 131us/step - loss: 0.1812 - acc: 0.9375 - val_loss: 3.1620 - val_acc: 0.5313\n",
      "Epoch 36/100\n",
      "50000/50000 [==============================] - 7s 141us/step - loss: 0.1610 - acc: 0.9451 - val_loss: 3.1658 - val_acc: 0.5304\n",
      "Epoch 37/100\n",
      "50000/50000 [==============================] - 7s 141us/step - loss: 0.1620 - acc: 0.9443 - val_loss: 3.1095 - val_acc: 0.5312\n",
      "Epoch 38/100\n",
      "50000/50000 [==============================] - 7s 138us/step - loss: 0.1353 - acc: 0.9538 - val_loss: 3.2344 - val_acc: 0.5219\n",
      "Epoch 39/100\n",
      "50000/50000 [==============================] - 7s 141us/step - loss: 0.1499 - acc: 0.9487 - val_loss: 3.3587 - val_acc: 0.5208\n",
      "Epoch 40/100\n",
      "50000/50000 [==============================] - 7s 137us/step - loss: 0.1494 - acc: 0.9489 - val_loss: 3.3323 - val_acc: 0.5073\n",
      "Epoch 41/100\n",
      "50000/50000 [==============================] - 7s 146us/step - loss: 0.1495 - acc: 0.9488 - val_loss: 3.3098 - val_acc: 0.5303\n",
      "Epoch 42/100\n",
      "50000/50000 [==============================] - 7s 144us/step - loss: 0.1396 - acc: 0.9523 - val_loss: 3.4198 - val_acc: 0.5181\n",
      "Epoch 43/100\n",
      "50000/50000 [==============================] - 7s 138us/step - loss: 0.1355 - acc: 0.9549 - val_loss: 3.3151 - val_acc: 0.5253\n",
      "Epoch 44/100\n",
      "50000/50000 [==============================] - 7s 135us/step - loss: 0.1231 - acc: 0.9584 - val_loss: 3.4329 - val_acc: 0.5232\n",
      "Epoch 45/100\n",
      "50000/50000 [==============================] - 7s 139us/step - loss: 0.1461 - acc: 0.9510 - val_loss: 3.3001 - val_acc: 0.5278\n",
      "Epoch 46/100\n",
      "50000/50000 [==============================] - 7s 136us/step - loss: 0.1110 - acc: 0.9627 - val_loss: 3.5237 - val_acc: 0.5349\n",
      "Epoch 47/100\n",
      "50000/50000 [==============================] - 7s 137us/step - loss: 0.1124 - acc: 0.9629 - val_loss: 3.5119 - val_acc: 0.5242\n",
      "Epoch 48/100\n",
      "50000/50000 [==============================] - 7s 148us/step - loss: 0.1511 - acc: 0.9491 - val_loss: 3.4340 - val_acc: 0.5255\n",
      "Epoch 49/100\n",
      "50000/50000 [==============================] - 7s 146us/step - loss: 0.1444 - acc: 0.9518 - val_loss: 3.4216 - val_acc: 0.5315\n",
      "Epoch 50/100\n",
      "50000/50000 [==============================] - 7s 139us/step - loss: 0.1046 - acc: 0.9655 - val_loss: 3.6464 - val_acc: 0.5238\n",
      "Epoch 51/100\n",
      "50000/50000 [==============================] - 7s 131us/step - loss: 0.1146 - acc: 0.9613 - val_loss: 3.5119 - val_acc: 0.5286\n",
      "Epoch 52/100\n",
      "50000/50000 [==============================] - 7s 132us/step - loss: 0.1232 - acc: 0.9595 - val_loss: 3.4987 - val_acc: 0.5191\n",
      "Epoch 53/100\n",
      "50000/50000 [==============================] - 6s 129us/step - loss: 0.1135 - acc: 0.9623 - val_loss: 3.5782 - val_acc: 0.5206\n",
      "Epoch 54/100\n",
      "50000/50000 [==============================] - 7s 136us/step - loss: 0.1007 - acc: 0.9669 - val_loss: 3.5667 - val_acc: 0.5258\n",
      "Epoch 55/100\n",
      "50000/50000 [==============================] - 7s 133us/step - loss: 0.0985 - acc: 0.9675 - val_loss: 3.6439 - val_acc: 0.5250\n",
      "Epoch 56/100\n",
      "50000/50000 [==============================] - 7s 139us/step - loss: 0.1106 - acc: 0.9629 - val_loss: 3.5877 - val_acc: 0.5337\n",
      "Epoch 57/100\n"
     ]
    },
    {
     "name": "stdout",
     "output_type": "stream",
     "text": [
      "50000/50000 [==============================] - 7s 131us/step - loss: 0.1013 - acc: 0.9665 - val_loss: 3.6517 - val_acc: 0.5289\n",
      "Epoch 58/100\n",
      "50000/50000 [==============================] - 7s 140us/step - loss: 0.1076 - acc: 0.9642 - val_loss: 3.6785 - val_acc: 0.5264\n",
      "Epoch 59/100\n",
      "50000/50000 [==============================] - 7s 138us/step - loss: 0.1188 - acc: 0.9616 - val_loss: 3.6354 - val_acc: 0.5241\n",
      "Epoch 60/100\n",
      "50000/50000 [==============================] - 7s 131us/step - loss: 0.0783 - acc: 0.9740 - val_loss: 3.7155 - val_acc: 0.5327\n",
      "Epoch 61/100\n",
      "50000/50000 [==============================] - 7s 131us/step - loss: 0.1016 - acc: 0.9668 - val_loss: 3.6567 - val_acc: 0.5315\n",
      "Epoch 62/100\n",
      "50000/50000 [==============================] - 6s 123us/step - loss: 0.0865 - acc: 0.9712 - val_loss: 3.7184 - val_acc: 0.5302\n",
      "Epoch 63/100\n",
      "50000/50000 [==============================] - 6s 127us/step - loss: 0.0780 - acc: 0.9739 - val_loss: 3.8052 - val_acc: 0.5258\n",
      "Epoch 64/100\n",
      "50000/50000 [==============================] - 6s 116us/step - loss: 0.1135 - acc: 0.9635 - val_loss: 3.7553 - val_acc: 0.5174\n",
      "Epoch 65/100\n",
      "50000/50000 [==============================] - 7s 139us/step - loss: 0.1142 - acc: 0.9625 - val_loss: 3.6706 - val_acc: 0.5271\n",
      "Epoch 66/100\n",
      "50000/50000 [==============================] - 7s 143us/step - loss: 0.0878 - acc: 0.9711 - val_loss: 3.7698 - val_acc: 0.5245\n",
      "Epoch 67/100\n",
      "50000/50000 [==============================] - 7s 139us/step - loss: 0.0998 - acc: 0.9674 - val_loss: 3.7396 - val_acc: 0.5257\n",
      "Epoch 68/100\n",
      "50000/50000 [==============================] - 7s 136us/step - loss: 0.0870 - acc: 0.9712 - val_loss: 3.9159 - val_acc: 0.5233\n",
      "Epoch 69/100\n",
      "50000/50000 [==============================] - 7s 135us/step - loss: 0.1103 - acc: 0.9643 - val_loss: 3.7468 - val_acc: 0.5336\n",
      "Epoch 70/100\n",
      "50000/50000 [==============================] - 7s 139us/step - loss: 0.0879 - acc: 0.9708 - val_loss: 3.8630 - val_acc: 0.5226\n",
      "Epoch 71/100\n",
      "50000/50000 [==============================] - 6s 124us/step - loss: 0.0886 - acc: 0.9720 - val_loss: 3.8822 - val_acc: 0.5282\n",
      "Epoch 72/100\n",
      "50000/50000 [==============================] - 6s 128us/step - loss: 0.0812 - acc: 0.9735 - val_loss: 3.9096 - val_acc: 0.5302\n",
      "Epoch 73/100\n",
      "50000/50000 [==============================] - 6s 125us/step - loss: 0.0846 - acc: 0.9731 - val_loss: 3.8049 - val_acc: 0.5244\n",
      "Epoch 74/100\n",
      "50000/50000 [==============================] - 6s 127us/step - loss: 0.0878 - acc: 0.9717 - val_loss: 3.8367 - val_acc: 0.5272\n",
      "Epoch 75/100\n",
      "50000/50000 [==============================] - 6s 127us/step - loss: 0.0733 - acc: 0.9755 - val_loss: 3.8773 - val_acc: 0.5375\n",
      "Epoch 76/100\n",
      "50000/50000 [==============================] - 6s 127us/step - loss: 0.0862 - acc: 0.9729 - val_loss: 3.7860 - val_acc: 0.5363\n",
      "Epoch 77/100\n",
      "50000/50000 [==============================] - 6s 127us/step - loss: 0.0758 - acc: 0.9752 - val_loss: 4.1316 - val_acc: 0.5175\n",
      "Epoch 78/100\n",
      "50000/50000 [==============================] - 7s 143us/step - loss: 0.0822 - acc: 0.9739 - val_loss: 3.8603 - val_acc: 0.5308\n",
      "Epoch 79/100\n",
      "50000/50000 [==============================] - 6s 125us/step - loss: 0.0858 - acc: 0.9730 - val_loss: 3.7999 - val_acc: 0.5298\n",
      "Epoch 80/100\n",
      "50000/50000 [==============================] - 6s 125us/step - loss: 0.0574 - acc: 0.9814 - val_loss: 3.9465 - val_acc: 0.5207\n",
      "Epoch 81/100\n",
      "50000/50000 [==============================] - 6s 125us/step - loss: 0.0700 - acc: 0.9767 - val_loss: 3.9458 - val_acc: 0.5203\n",
      "Epoch 82/100\n",
      "50000/50000 [==============================] - 6s 125us/step - loss: 0.0854 - acc: 0.9721 - val_loss: 3.8696 - val_acc: 0.5261\n",
      "Epoch 83/100\n",
      "50000/50000 [==============================] - 6s 124us/step - loss: 0.0982 - acc: 0.9696 - val_loss: 3.8324 - val_acc: 0.5192\n",
      "Epoch 84/100\n",
      "50000/50000 [==============================] - 6s 128us/step - loss: 0.0883 - acc: 0.9716 - val_loss: 3.8843 - val_acc: 0.5320\n",
      "Epoch 85/100\n",
      "50000/50000 [==============================] - 7s 132us/step - loss: 0.0685 - acc: 0.9779 - val_loss: 3.9286 - val_acc: 0.5277\n",
      "Epoch 86/100\n",
      "50000/50000 [==============================] - 6s 130us/step - loss: 0.0692 - acc: 0.9783 - val_loss: 3.9804 - val_acc: 0.5327\n",
      "Epoch 87/100\n",
      "50000/50000 [==============================] - 6s 122us/step - loss: 0.0650 - acc: 0.9791 - val_loss: 4.0164 - val_acc: 0.5277\n",
      "Epoch 88/100\n",
      "50000/50000 [==============================] - 6s 125us/step - loss: 0.0619 - acc: 0.9802 - val_loss: 4.0045 - val_acc: 0.5225\n",
      "Epoch 89/100\n",
      "50000/50000 [==============================] - 7s 136us/step - loss: 0.0937 - acc: 0.9701 - val_loss: 3.8410 - val_acc: 0.5325\n",
      "Epoch 90/100\n",
      "50000/50000 [==============================] - 6s 125us/step - loss: 0.0648 - acc: 0.9797 - val_loss: 3.9143 - val_acc: 0.5234s - lo - ETA: 0s - loss: 0.0628 - a\n",
      "Epoch 91/100\n",
      "50000/50000 [==============================] - 6s 125us/step - loss: 0.0748 - acc: 0.9753 - val_loss: 3.9083 - val_acc: 0.5269\n",
      "Epoch 92/100\n",
      "50000/50000 [==============================] - 6s 125us/step - loss: 0.0754 - acc: 0.9760 - val_loss: 4.0797 - val_acc: 0.5248\n",
      "Epoch 93/100\n",
      "50000/50000 [==============================] - 6s 125us/step - loss: 0.0791 - acc: 0.9742 - val_loss: 3.9600 - val_acc: 0.5275\n",
      "Epoch 94/100\n",
      "50000/50000 [==============================] - 6s 127us/step - loss: 0.0610 - acc: 0.9808 - val_loss: 4.0994 - val_acc: 0.5305\n",
      "Epoch 95/100\n",
      "50000/50000 [==============================] - 6s 124us/step - loss: 0.0700 - acc: 0.9781 - val_loss: 3.9793 - val_acc: 0.5248\n",
      "Epoch 96/100\n",
      "50000/50000 [==============================] - 6s 124us/step - loss: 0.0491 - acc: 0.9845 - val_loss: 4.0592 - val_acc: 0.5217\n",
      "Epoch 97/100\n",
      "50000/50000 [==============================] - 6s 124us/step - loss: 0.0716 - acc: 0.9771 - val_loss: 4.0128 - val_acc: 0.5294: 1s - los - ETA: 0s - loss: 0.0707 - acc: 0\n",
      "Epoch 98/100\n",
      "50000/50000 [==============================] - 6s 124us/step - loss: 0.0716 - acc: 0.9765 - val_loss: 4.0166 - val_acc: 0.5232\n",
      "Epoch 99/100\n",
      "50000/50000 [==============================] - 7s 138us/step - loss: 0.0603 - acc: 0.9798 - val_loss: 4.0936 - val_acc: 0.5308\n",
      "Epoch 100/100\n",
      "50000/50000 [==============================] - 6s 127us/step - loss: 0.0687 - acc: 0.9785 - val_loss: 3.9706 - val_acc: 0.5290\n"
     ]
    },
    {
     "data": {
      "text/plain": [
       "<keras.callbacks.History at 0x2e84b9e5358>"
      ]
     },
     "execution_count": 7,
     "metadata": {},
     "output_type": "execute_result"
    }
   ],
   "source": [
    "## 超參數設定\n",
    "LEARNING_RATE = 0.001\n",
    "EPOCHS = 100\n",
    "BATCH_SIZE = 256\n",
    "optimizer = keras.optimizers.Adam(lr=LEARNING_RATE)\n",
    "model.compile(loss=\"categorical_crossentropy\", metrics=[\"accuracy\"], optimizer=optimizer)\n",
    "model.fit(x_train, y_train, epochs=EPOCHS, batch_size=BATCH_SIZE, validation_data=(x_test, y_test), shuffle=True)"
   ]
  },
  {
   "cell_type": "code",
   "execution_count": 9,
   "metadata": {},
   "outputs": [
    {
     "data": {
      "image/png": "[encoded data removed]",
      "text/plain": [
       "<Figure size 432x288 with 1 Axes>"
      ]
     },
     "metadata": {
      "needs_background": "light"
     },
     "output_type": "display_data"
    },
    {
     "data": {
      "image/png": "[encoded data removed]",
      "text/plain": [
       "<Figure size 432x288 with 1 Axes>"
      ]
     },
     "metadata": {
      "needs_background": "light"
     },
     "output_type": "display_data"
    }
   ],
   "source": [
    "import matplotlib.pyplot as plt\n",
    "\n",
    "train_loss = model.history.history[\"loss\"]\n",
    "valid_loss = model.history.history[\"val_loss\"]\n",
    "\n",
    "train_acc = model.history.history[\"acc\"]\n",
    "valid_acc = model.history.history[\"val_acc\"]\n",
    "\n",
    "plt.plot(range(len(train_loss)), train_loss, label=\"train loss\")\n",
    "plt.plot(range(len(valid_loss)), valid_loss, label=\"valid loss\")\n",
    "plt.legend()\n",
    "plt.title(\"Loss\")\n",
    "plt.show()\n",
    "\n",
    "plt.plot(range(len(train_acc)), train_acc, label=\"train accuracy\")\n",
    "plt.plot(range(len(valid_acc)), valid_acc, label=\"valid accuracy\")\n",
    "plt.legend()\n",
    "plt.title(\"Accuracy\")\n",
    "plt.show()"
   ]
  },
  {
   "cell_type": "code",
   "execution_count": null,
   "metadata": {},
   "outputs": [],
   "source": []
  }
 ],
 "metadata": {
  "kernelspec": {
   "display_name": "Python 3",
   "language": "python",
   "name": "python3"
  },
  "language_info": {
   "codemirror_mode": {
    "name": "ipython",
    "version": 3
   },
   "file_extension": ".py",
   "mimetype": "text/x-python",
   "name": "python",
   "nbconvert_exporter": "python",
   "pygments_lexer": "ipython3",
   "version": "3.6.8"
  }
 },
 "nbformat": 4,
 "nbformat_minor": 2
}
